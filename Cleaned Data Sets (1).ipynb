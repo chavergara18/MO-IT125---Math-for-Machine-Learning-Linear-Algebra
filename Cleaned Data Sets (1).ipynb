{
 "cells": [
  {
   "cell_type": "code",
   "execution_count": 7,
   "id": "60aa660a-7add-4ac8-8029-624dd10d628c",
   "metadata": {},
   "outputs": [
    {
     "name": "stdout",
     "output_type": "stream",
     "text": [
      "Original Data:\n",
      "                             CustomerID                         InteractionID  \\\n",
      "0  2dcb9523-356b-40b2-a67b-1f27797de261  e5d15761-d0a7-4329-89e3-79a892c56097   \n",
      "1  e12c37b3-7d4d-472f-9fd8-0df2cb3001aa  02f9f376-70ae-4fcd-9070-1db977939948   \n",
      "2  08a911a3-65e6-4f5d-a6a1-ae7ddcbe28a2  a83fa04c-f109-4f24-8ce1-2078154f6a1c   \n",
      "3  efdfdfc9-5dbb-4478-911a-101a390a0285  28a69c4b-a2e4-4c74-a130-1132d7733fdf   \n",
      "4  ca1e90f6-0e5f-492e-ab92-252ff540da18  d9d1c6f8-5e15-4738-b52b-13c2982420cc   \n",
      "\n",
      "  InteractionDate   Platform InteractionType Sentiment  \n",
      "0      2023-07-11        NaN         Comment       NaN  \n",
      "1      2023-07-06    Twitter           Share       NaN  \n",
      "2      2024-05-24  Instagram         Comment   Neutral  \n",
      "3      2023-11-01  Instagram            Like   Neutral  \n",
      "4      2023-07-08  Instagram            Like       NaN  \n",
      "Data cleaned and saved to: cleaned_file.csv\n"
     ]
    }
   ],
   "source": [
    "import pandas as pd\n",
    "\n",
    "file_path = (\"C:/Users/User/Downloads/social_media_interactions_contaminated.csv\")  \n",
    "data = pd.read_csv(file_path)\n",
    "\n",
    "print(\"Original Data:\")\n",
    "print(data.head())\n",
    "\n",
    "data = data.drop_duplicates()\n",
    "\n",
    "data = data.dropna()\n",
    "\n",
    "data.rename(columns={'old_name': 'new_name'}, inplace=True)\n",
    "\n",
    "cleaned_file_path = 'cleaned_file.csv'  \n",
    "data.to_csv(cleaned_file_path, index=False)\n",
    "\n",
    "print(\"Data cleaned and saved to:\", cleaned_file_path)"
   ]
  },
  {
   "cell_type": "code",
   "execution_count": 9,
   "id": "0cee8867-04fc-4301-a2f1-2de7b189a673",
   "metadata": {},
   "outputs": [
    {
     "name": "stdout",
     "output_type": "stream",
     "text": [
      "Original Data:\n",
      "                             CustomerID                         TransactionID  \\\n",
      "0  60567026-f719-4cd6-849e-137e86d8938f  5ff75116-0a50-4d04-80fb-31e5ccbb0769   \n",
      "1  4090ba85-b111-4f75-a792-c777965f5255  2c39b9fe-ff57-4d39-9321-9f5cdf187aa1   \n",
      "2  9223891b-73ff-4d5c-b8ae-13ece82ee28b  f79588dd-3db9-4ffa-97f8-7de0e64259f1   \n",
      "3  9243eebc-938f-480c-8564-16d503d250de  401c0fc9-60df-4455-ad78-67c132f9897d   \n",
      "4  6e3e8eb8-bc0f-4ffe-9f74-5d5efec9502f  2034aebc-8280-4254-a667-92bcd1c2be4f   \n",
      "\n",
      "  TransactionDate  Amount  ProductCategory  PaymentMethod  \n",
      "0      2024-05-15  117.64         Clothing         PayPal  \n",
      "1      2023-04-26  466.14  Health & Beauty  Bank Transfer  \n",
      "2      2022-09-23  563.99         Clothing     Debit Card  \n",
      "3      2024-04-15  254.44       Automotive         PayPal  \n",
      "4      2024-06-03  590.52    Home & Garden  Bank Transfer  \n",
      "Data cleaned and saved to: cleaned_file.csv\n"
     ]
    }
   ],
   "source": [
    "import pandas as pd\n",
    "\n",
    "file_path = (\"C:/Users/User/Downloads/customer_transactions_contaminated.csv\")  \n",
    "data = pd.read_csv(file_path)\n",
    "\n",
    "print(\"Original Data:\")\n",
    "print(data.head())\n",
    "\n",
    "data = data.drop_duplicates()\n",
    "\n",
    "data = data.dropna()\n",
    "\n",
    "data.rename(columns={'old_name': 'new_name'}, inplace=True)\n",
    "\n",
    "cleaned_file_path = 'cleaned_file.csv'  \n",
    "data.to_csv(cleaned_file_path, index=False)\n",
    "\n",
    "print(\"Data cleaned and saved to:\", cleaned_file_path)"
   ]
  },
  {
   "cell_type": "code",
   "execution_count": 11,
   "id": "f11ac8bf-957c-4091-81b3-f25fd809db2e",
   "metadata": {},
   "outputs": [
    {
     "name": "stdout",
     "output_type": "stream",
     "text": [
      "Original Data:\n",
      "                             CustomerID   Age  Gender           Location  \\\n",
      "0  9207fa75-5758-48d1-94ad-19c041e0520f  51.0  Female         Jensenberg   \n",
      "1  5fb09cd8-a473-46f7-80bd-6e49cf509078   NaN  Female       Castilloport   \n",
      "2  c139496e-cc89-498a-bd90-1fb4627b6cff  37.0    Male  Lake Jennifertown   \n",
      "3  50118139-7264-428f-81cc-a25fddc5d6dd  44.0    Male          Port Carl   \n",
      "4  7d1f2bbc-8d16-4fbc-9b37-ece3324e8ed4  50.0  Female          Jessebury   \n",
      "\n",
      "  IncomeLevel  SignupDate  \n",
      "0         Low  2022-11-17  \n",
      "1        High  2020-07-21  \n",
      "2         NaN  2021-01-01  \n",
      "3      Medium  2024-06-10  \n",
      "4        High  2023-08-24  \n",
      "Data cleaned and saved to: cleaned_file.csv\n"
     ]
    }
   ],
   "source": [
    "import pandas as pd\n",
    "\n",
    "file_path = (\"C:/Users/User/Downloads/customer_demographics_contaminated.csv\")  \n",
    "data = pd.read_csv(file_path)\n",
    "\n",
    "print(\"Original Data:\")\n",
    "print(data.head())\n",
    "\n",
    "data = data.drop_duplicates()\n",
    "\n",
    "data = data.dropna()\n",
    "\n",
    "data.rename(columns={'old_name': 'new_name'}, inplace=True)\n",
    "\n",
    "cleaned_file_path = 'cleaned_file.csv'  \n",
    "data.to_csv(cleaned_file_path, index=False)\n",
    "\n",
    "print(\"Data cleaned and saved to:\", cleaned_file_path)"
   ]
  },
  {
   "cell_type": "code",
   "execution_count": null,
   "id": "85217436-1081-43a7-9248-2c4f237f8a55",
   "metadata": {},
   "outputs": [],
   "source": []
  }
 ],
 "metadata": {
  "kernelspec": {
   "display_name": "Python 3 (ipykernel)",
   "language": "python",
   "name": "python3"
  },
  "language_info": {
   "codemirror_mode": {
    "name": "ipython",
    "version": 3
   },
   "file_extension": ".py",
   "mimetype": "text/x-python",
   "name": "python",
   "nbconvert_exporter": "python",
   "pygments_lexer": "ipython3",
   "version": "3.12.4"
  }
 },
 "nbformat": 4,
 "nbformat_minor": 5
}
