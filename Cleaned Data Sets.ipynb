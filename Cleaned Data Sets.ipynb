{
 "cells": [
  {
   "cell_type": "code",
   "execution_count": 7,
   "id": "60aa660a-7add-4ac8-8029-624dd10d628c",
   "metadata": {},
   "outputs": [
    {
     "name": "stdout",
     "output_type": "stream",
     "text": [
      "Original Data:\n",
      "                             CustomerID                         InteractionID  \\\n",
      "0  2dcb9523-356b-40b2-a67b-1f27797de261  e5d15761-d0a7-4329-89e3-79a892c56097   \n",
      "1  e12c37b3-7d4d-472f-9fd8-0df2cb3001aa  02f9f376-70ae-4fcd-9070-1db977939948   \n",
      "2  08a911a3-65e6-4f5d-a6a1-ae7ddcbe28a2  a83fa04c-f109-4f24-8ce1-2078154f6a1c   \n",
      "3  efdfdfc9-5dbb-4478-911a-101a390a0285  28a69c4b-a2e4-4c74-a130-1132d7733fdf   \n",
      "4  ca1e90f6-0e5f-492e-ab92-252ff540da18  d9d1c6f8-5e15-4738-b52b-13c2982420cc   \n",
      "\n",
      "  InteractionDate   Platform InteractionType Sentiment  \n",
      "0      2023-07-11        NaN         Comment       NaN  \n",
      "1      2023-07-06    Twitter           Share       NaN  \n",
      "2      2024-05-24  Instagram         Comment   Neutral  \n",
      "3      2023-11-01  Instagram            Like   Neutral  \n",
      "4      2023-07-08  Instagram            Like       NaN  \n",
      "Data cleaned and saved to: cleaned_file.csv\n"
     ]
    }
   ],
   "source": [
    "import pandas as pd\n",
    "\n",
    "file_path = (\"C:/Users/User/Downloads/social_media_interactions_contaminated.csv\")  \n",
    "data = pd.read_csv(file_path)\n",
    "\n",
    "print(\"Original Data:\")\n",
    "print(data.head())\n",
    "\n",
    "data = data.drop_duplicates()\n",
    "\n",
    "data = data.dropna()\n",
    "\n",
    "data.rename(columns={'old_name': 'new_name'}, inplace=True)\n",
    "\n",
    "cleaned_file_path = 'cleaned_file.csv'  \n",
    "data.to_csv(cleaned_file_path, index=False)\n",
    "\n",
    "print(\"Data cleaned and saved to:\", cleaned_file_path)"
   ]
  },
  {
   "cell_type": "code",
   "execution_count": null,
   "id": "0cee8867-04fc-4301-a2f1-2de7b189a673",
   "metadata": {},
   "outputs": [],
   "source": []
  }
 ],
 "metadata": {
  "kernelspec": {
   "display_name": "Python 3 (ipykernel)",
   "language": "python",
   "name": "python3"
  },
  "language_info": {
   "codemirror_mode": {
    "name": "ipython",
    "version": 3
   },
   "file_extension": ".py",
   "mimetype": "text/x-python",
   "name": "python",
   "nbconvert_exporter": "python",
   "pygments_lexer": "ipython3",
   "version": "3.12.4"
  }
 },
 "nbformat": 4,
 "nbformat_minor": 5
}
